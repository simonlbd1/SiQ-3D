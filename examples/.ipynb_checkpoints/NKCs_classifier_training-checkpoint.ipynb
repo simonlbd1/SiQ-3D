{
 "cells": [
  {
   "cell_type": "markdown",
   "id": "0ad1296c",
   "metadata": {},
   "source": [
    "The basic procedures include:\n",
    "(1) Import packages\n",
    "(2) Initialize parameters for training the classifier\n",
    "(3) Load datasets\n",
    "(4) Image preprocessing\n",
    "(5) Train the classifier\n",
    "(6) Select and save the best weights/model"
   ]
  },
  {
   "cell_type": "markdown",
   "id": "889761d7",
   "metadata": {},
   "source": [
    "# Step 1. Import packages"
   ]
  },
  {
   "cell_type": "code",
   "execution_count": null,
   "id": "716ed826",
   "metadata": {},
   "outputs": [],
   "source": [
    "%load_ext autoreload\n",
    "%autoreload 2\n",
    "import os\n",
    "import warnings\n",
    "warnings.filterwarnings('ignore')\n",
    "from SiQ3D.classifiers import Classifier \n",
    "from SiQ3D.classifiers import sequential_classifier, multi_scale_classifier"
   ]
  },
  {
   "cell_type": "markdown",
   "id": "192cc624",
   "metadata": {},
   "source": [
    "# Step 2. Initialize parameters for training the classifier"
   ]
  },
  {
   "cell_type": "markdown",
   "id": "a0ddf382",
   "metadata": {},
   "source": [
    "folder_path: Create a folder (if it does not yet exist) to store the data and model files. We recommend users to create a folder under the same directory containing the jupyter notebook file, i.e., “./xxx” (“xxx” is the folder name).\\\n",
    "model: This is the pre-defined classifier. We provide sequential_classifier() as a default classifier for classifying the polarized/non-polarized NK cells. "
   ]
  },
  {
   "cell_type": "code",
   "execution_count": null,
   "id": "c4550d21",
   "metadata": {},
   "outputs": [],
   "source": [
    "trainer = Classifier(model=sequential_classifier(), folder_path = os.path.abspath(\"./nkcs_classifier\"))"
   ]
  },
  {
   "cell_type": "markdown",
   "id": "e176d80e",
   "metadata": {},
   "source": [
    "# Step 3. Load datasets"
   ]
  },
  {
   "cell_type": "markdown",
   "id": "10e30c89",
   "metadata": {},
   "source": [
    "After running Step 2, the program automatically creates several folders under the folder_path. Users should prepare the polarized/non-polarized NK cell training datasets, and store them in the folders image1 and image0. We recommend users to store the non-polarized NK cell images in folder image0, and store the polarized NK cell images in folder image1. \\\n",
    "Note: one image (shape: (height, width, depth)) is related to a sample."
   ]
  },
  {
   "cell_type": "code",
   "execution_count": null,
   "id": "e24ef50f",
   "metadata": {},
   "outputs": [],
   "source": [
    "trainer.load_dataset()"
   ]
  },
  {
   "cell_type": "markdown",
   "id": "253cbd25",
   "metadata": {},
   "source": [
    "# Step 4. Image preprocessing"
   ]
  },
  {
   "cell_type": "markdown",
   "id": "af12813b",
   "metadata": {},
   "source": [
    "val_ratio: the ratio of the data for validation. We set the default value to be 0.2. Users can set other training/validation ratio.\\\n",
    "This step will split the datasets into training and validation datasets, according to the parameter val_ratio. Then the program will conduct data augmentation by rotating the images by selected degrees (default degrees: -90, -60, -30, 30, 60, 90 degrees) in the x-y plane."
   ]
  },
  {
   "cell_type": "code",
   "execution_count": null,
   "id": "8cf3fdde",
   "metadata": {},
   "outputs": [],
   "source": [
    "trainer.preprocess()"
   ]
  },
  {
   "cell_type": "markdown",
   "id": "f3b0cd56",
   "metadata": {},
   "source": [
    "# Step 5. Train the classifier"
   ]
  },
  {
   "cell_type": "markdown",
   "id": "1909744d",
   "metadata": {},
   "source": [
    "We use cross entropy loss for training the classifier. During the training, the program will display loss (training loss), val_loss (validation loss), accuracy (training accuracy) and val_accuracy (validation accuracy) in real time. By default, the program will train for 100 epochs. If other number of epochs is desired, users can modify the parameter iteration=n, where n is the epoch number. Users can manually stop the training by pressing Ctrl+C if the val_accuracy no longer increases."
   ]
  },
  {
   "cell_type": "code",
   "execution_count": null,
   "id": "498d4a6b",
   "metadata": {
    "scrolled": false
   },
   "outputs": [],
   "source": [
    "trainer.train()"
   ]
  },
  {
   "cell_type": "markdown",
   "id": "ba6fb294",
   "metadata": {},
   "source": [
    "# Step 6. Select and save the best weights/model"
   ]
  },
  {
   "cell_type": "markdown",
   "id": "74cebe27",
   "metadata": {},
   "source": [
    "After the model training completes, users should choose the best epoch number that results in the highest validation accuracy (e.g., epoch=57 as used above). The program will store the trained model with the chosen weights in the models folder with the name, classifier_pretrained.h5."
   ]
  },
  {
   "cell_type": "code",
   "execution_count": null,
   "id": "b7fcbc00",
   "metadata": {},
   "outputs": [],
   "source": [
    "trainer.select_weights(epoch=57)"
   ]
  },
  {
   "cell_type": "code",
   "execution_count": null,
   "id": "b36fc70b",
   "metadata": {},
   "outputs": [],
   "source": [
    "trainer.draw_loss_accuracy()"
   ]
  },
  {
   "cell_type": "code",
   "execution_count": null,
   "id": "895fef52",
   "metadata": {},
   "outputs": [],
   "source": [
    "trainer.save_loss_accuracy()"
   ]
  },
  {
   "cell_type": "code",
   "execution_count": null,
   "id": "d5cccce4",
   "metadata": {},
   "outputs": [],
   "source": []
  }
 ],
 "metadata": {
  "kernelspec": {
   "display_name": "Python 3 (ipykernel)",
   "language": "python",
   "name": "python3"
  },
  "language_info": {
   "codemirror_mode": {
    "name": "ipython",
    "version": 3
   },
   "file_extension": ".py",
   "mimetype": "text/x-python",
   "name": "python",
   "nbconvert_exporter": "python",
   "pygments_lexer": "ipython3",
   "version": "3.8.15"
  }
 },
 "nbformat": 4,
 "nbformat_minor": 5
}
