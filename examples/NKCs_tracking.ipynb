{
 "cells": [
  {
   "cell_type": "markdown",
   "id": "9b647ee6",
   "metadata": {},
   "source": [
    "The basic procedures include:\n",
    "(1) Import packages\n",
    "(2) Initialize the parameters for tracking\n",
    "(3) Prepare data and models\n",
    "(4) Optimize the segmentation parameters\n",
    "(5) Track the following volumes"
   ]
  },
  {
   "cell_type": "markdown",
   "id": "05c98621",
   "metadata": {},
   "source": [
    "# Step 1. Import packages"
   ]
  },
  {
   "cell_type": "code",
   "execution_count": null,
   "id": "ce2c0c4a",
   "metadata": {},
   "outputs": [],
   "source": [
    "%load_ext autoreload\n",
    "%autoreload 2\n",
    "import os\n",
    "import warnings\n",
    "warnings.filterwarnings('ignore')\n",
    "from SiQ3D.immuneTracker import Tracker\n",
    "%matplotlib inline"
   ]
  },
  {
   "cell_type": "markdown",
   "id": "314ca081",
   "metadata": {},
   "source": [
    "# Step 2. Initialize the parameters for tracking"
   ]
  },
  {
   "cell_type": "markdown",
   "id": "e28fb8e5",
   "metadata": {},
   "source": [
    "Image parameters:\\\n",
    "•\tvolume_num: the number of volumes (i.e., time points) of the images to be tracked.\\\n",
    "•\txyz_size: size of a 3D frame: (height, width, depth), unit: voxels.\\\n",
    "•\tz_xy_ratio: resolution (um/voxel) ratio between the z (depth) and x-y plane.\\\n",
    "Segmentation parameters:\\\n",
    "•\tmin_size: the minimal cell size; used for removing the small objects.\\\n",
    "•\tmin_distance: the minimum value of the distance used in watershed for cell segmentation.\\\n",
    "•\ttouch_ratio: the threshold value of the touching area ratio between two neighboring voxels that is used in TASCAN segmentation algorithm.\\\n",
    "•\tnoise_level: the intensity of the non-cell regions; used in local contrast normalization.\\\n",
    "•\tthreshold_method: value of 0 or 1; 0 indicates conventional threshold method, while 1 indicates OTSU threshold method. If the parameter unet_model_file is provided, the program will use the 3D U-Net, not the threshold method.\\\n",
    "Tracking parameters:\\\n",
    "•\tsearch_radius: search radius used in the Bayesian tracking algorithm.\\\n",
    "File information:\\\n",
    "•\tfolder_path: the path of the folder to store data, model and the tracking results. We recommend users to create a folder under the same directory containing the jupyter notebook file, i.e., “./xxx” (“xxx” is the folder name).\\\n",
    "•\timage_name: file name of the images to be tracked. Users should name their image sequences in the format of “xxx_Tk_Zm.tif”, where “xxx” is the prefix of the file name, and “k” and “m” are the index number of time point and z stack, respectively. For example, “nkcs_T123_Z023” indicates this is an NK cell image at time point #123 and z-stack #23. “k” and “m” are n-bit integers (e.g., “k” is a 3-bit integer if the dataset consists of hundreds of time points in total). With “k” and “m” as n-bit integers, the parameter image_name should be set in the Python format as,\n",
    " image_name=“xxx_T%0ni_Z%0ni.tif”\\\n",
    "•\tclassifier_file: file name of the pre-trained classifier.\\\n",
    "•\ttrack_config_file: configuration file used by btrack.\\\n",
    "•\tunet_model_file: file name of the pre-trained 3D U-Net model. If users do not provide this information, the program will use the threshold segmentation method, not the 3D U-Net.\\\n"
   ]
  },
  {
   "cell_type": "code",
   "execution_count": null,
   "id": "bf213db2",
   "metadata": {},
   "outputs": [],
   "source": [
    "tracker = Tracker(volume_num=10, xyz_size=(1024, 1024, 27), \n",
    "                  z_xy_ratio=4.6, noise_level=60, min_size=50, \n",
    "                  min_distance=20, touch_ratio=0.6, \n",
    "                  folder_path=os.path.abspath(\"./nkcs_tracking\"), \n",
    "                  image_name=\"nkcs_t%03i_z%03i.tif\", \n",
    "                  track_config_file = \"cell_track_config.json\"\n",
    "                  classifier_file=\"nkcs_classifier_pretrained.h5\", \n",
    "                  threshold_method=0, search_radius=20,\n",
    "                  tascan_=1)"
   ]
  },
  {
   "cell_type": "markdown",
   "id": "f0cd530c",
   "metadata": {},
   "source": [
    "Multiple folders will be automatically created to store data, models and the tracking results:\\\n",
    "data: to store the images to be tracked.\\\n",
    "segmentation_results: to store the segmented images before phenotyping and tracking.\\\n",
    "track_results: to store the tracking results (image of labels).\\\n",
    "models: to store the pre-trained models.\\\n",
    "track_information: to store the spatial coordinates of the tracked cells."
   ]
  },
  {
   "cell_type": "markdown",
   "id": "d48d644d",
   "metadata": {},
   "source": [
    "# Step 3. Prepare data and models"
   ]
  },
  {
   "cell_type": "markdown",
   "id": "a8153adb",
   "metadata": {},
   "source": [
    "Move the 2D image (z-stacks) sequences to the created folder data.\\\n",
    "Move the pre-trained 3D U-Net, classifier files and tracking configuration file to the created folder models."
   ]
  },
  {
   "cell_type": "markdown",
   "id": "7f7a12f7",
   "metadata": {},
   "source": [
    "# Step 4. Optimize the segmentation parameters"
   ]
  },
  {
   "cell_type": "markdown",
   "id": "3321d961",
   "metadata": {},
   "source": [
    "Segment cells at volume 1 and display the results."
   ]
  },
  {
   "cell_type": "code",
   "execution_count": null,
   "id": "12ade1f4",
   "metadata": {
    "scrolled": true
   },
   "outputs": [],
   "source": [
    "tracker.segment_vol1()\n",
    "tracker.draw_segresult()"
   ]
  },
  {
   "cell_type": "markdown",
   "id": "ac3ffa3b",
   "metadata": {},
   "source": [
    "If users find the segmentation results poor, they can reset the segmentation parameters, and then re-segment volume 1 as follows."
   ]
  },
  {
   "cell_type": "code",
   "execution_count": null,
   "id": "75cc1eb1",
   "metadata": {},
   "outputs": [],
   "source": [
    "tracker.set_segmentation(min_size=80, min_distance=3, touch_ratio=0.6, touch_area=10, noise_level=45)\n",
    "tracker.segment_vol1()\n",
    "tracker.draw_segresult()"
   ]
  },
  {
   "cell_type": "markdown",
   "id": "8438aa9f",
   "metadata": {},
   "source": [
    "# Step 5. Track the following volumes"
   ]
  },
  {
   "cell_type": "code",
   "execution_count": null,
   "id": "fbd25ac9",
   "metadata": {
    "scrolled": true
   },
   "outputs": [],
   "source": [
    "tracker.track()"
   ]
  },
  {
   "cell_type": "markdown",
   "id": "1af6b877",
   "metadata": {},
   "source": [
    "Save the cell coordinates and phenotyping results as csv file in the folder tracking_information."
   ]
  },
  {
   "cell_type": "code",
   "execution_count": null,
   "id": "a75c309b",
   "metadata": {},
   "outputs": [],
   "source": [
    "tracker.save_coordinates()"
   ]
  },
  {
   "cell_type": "code",
   "execution_count": null,
   "id": "511889f0",
   "metadata": {},
   "outputs": [],
   "source": []
  }
 ],
 "metadata": {
  "kernelspec": {
   "display_name": "Python 3 (ipykernel)",
   "language": "python",
   "name": "python3"
  },
  "language_info": {
   "codemirror_mode": {
    "name": "ipython",
    "version": 3
   },
   "file_extension": ".py",
   "mimetype": "text/x-python",
   "name": "python",
   "nbconvert_exporter": "python",
   "pygments_lexer": "ipython3",
   "version": "3.8.15"
  }
 },
 "nbformat": 4,
 "nbformat_minor": 5
}
