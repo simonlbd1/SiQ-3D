{
 "cells": [
  {
   "cell_type": "markdown",
   "id": "2b3a7281",
   "metadata": {},
   "source": [
    "The basic procedures include:\n",
    "(i) Import packages\n",
    "(ii) Initialize parameters for training the 3D U-Net\n",
    "(iii) Load the training/validation datasets\n",
    "(iv) Image preprocessing\n",
    "(v) Train the 3D U-Net\n",
    "(vi) Select and save the best weights/model"
   ]
  },
  {
   "cell_type": "markdown",
   "id": "1271b3a2",
   "metadata": {},
   "source": [
    "# Step 1. Import packages"
   ]
  },
  {
   "cell_type": "code",
   "execution_count": null,
   "id": "303d9964",
   "metadata": {},
   "outputs": [],
   "source": [
    "%load_ext autoreload\n",
    "%autoreload 2\n",
    "import os\n",
    "import warnings\n",
    "warnings.filterwarnings('ignore')\n",
    "from SiQ3D.unet3d import TrainingUNet3D\n",
    "from SiQ3D.unet3d import unet3"
   ]
  },
  {
   "cell_type": "markdown",
   "id": "968e4e13",
   "metadata": {},
   "source": [
    "# Step 2. Initialize parameters for training the 3D U-Net"
   ]
  },
  {
   "cell_type": "markdown",
   "id": "ae277175",
   "metadata": {},
   "source": [
    "noise_level: This is usually the background intensity of the raw images (e.g., noise_level=30 used in the code). This parameter is used in image normalization to enhance cells with weak signal intensity. If the training set and validation set of images have very different noise level, choose an initial value between the noise levels of the two.\\\n",
    "folder_path: Create a folder (if it does not yet exist) to store the data and model files. We recommend users to create a folder under the same directory containing the jupyter notebook file, i.e., “./xxx” (“xxx” is the folder name).\\\n",
    "model: This is the pre-defined 3D U-Net model. We provide a default 3D U-Net model, unet3(). "
   ]
  },
  {
   "cell_type": "code",
   "execution_count": null,
   "id": "37a3c4a4",
   "metadata": {},
   "outputs": [],
   "source": [
    "trainer = TrainingUNet3D(noise_level=30, folder_path=os.path.abspath(\"./unet_train\"), model=unet3())"
   ]
  },
  {
   "cell_type": "markdown",
   "id": "d9a5916d",
   "metadata": {},
   "source": [
    "# Step 3. Load the training/validation datasets"
   ]
  },
  {
   "cell_type": "markdown",
   "id": "8dffd5e1",
   "metadata": {},
   "source": [
    "After running Step 2, the program automatically creates several folders under the folder_path. Users should prepare the training dataset and validation dataset, and store them in the respective folders: train_image (the raw 2D images (z-stacks) from 3D movies for the training data), train_label (the 2D annotation of cell/non-cell regions for the training data), valid_image and valid_label (for the validation data). "
   ]
  },
  {
   "cell_type": "code",
   "execution_count": null,
   "id": "d83b5eb3",
   "metadata": {},
   "outputs": [],
   "source": [
    "trainer.load_dataset()\n",
    "trainer.draw_dataset()"
   ]
  },
  {
   "cell_type": "markdown",
   "id": "56cdedd5",
   "metadata": {},
   "source": [
    "# Step 4. Image preprocessing"
   ]
  },
  {
   "cell_type": "markdown",
   "id": "a73f83ff",
   "metadata": {},
   "source": [
    "This command performs photobleaching correction and local contrast normalization on the training and validation images. It also divides the images into multiple sub-images with specific size that matches the input size of the 3D U-Net, and then implements data augmentation by random affine transformation of the images using “ImageDataGenerator” class in Keras."
   ]
  },
  {
   "cell_type": "code",
   "execution_count": null,
   "id": "c08ef24f",
   "metadata": {},
   "outputs": [],
   "source": [
    "trainer.preprocess()"
   ]
  },
  {
   "cell_type": "code",
   "execution_count": null,
   "id": "4fa284a5",
   "metadata": {},
   "outputs": [],
   "source": [
    "trainer.draw_norm_dataset()"
   ]
  },
  {
   "cell_type": "code",
   "execution_count": null,
   "id": "72cd9361",
   "metadata": {},
   "outputs": [],
   "source": [
    "trainer.draw_divided_train_data()"
   ]
  },
  {
   "cell_type": "markdown",
   "id": "2a805c90",
   "metadata": {},
   "source": [
    "# Step 5. Train the 3D U-Net"
   ]
  },
  {
   "cell_type": "markdown",
   "id": "f6f41847",
   "metadata": {},
   "source": [
    "We employ cross entropy loss for training the 3D U-Net. During model training, the program will display loss (training loss) and val_loss (validation loss) in real time. If the val_loss is reduced during the model training, the program will display the predicted cell regions.\n",
    "By default, the program will train for 100 epochs. If users want to set other number of epochs, they can modify the parameter iteration=n, where n is the epoch number. Users can manually stop the training by pressing Ctrl+C if the val_loss no longer decreases."
   ]
  },
  {
   "cell_type": "code",
   "execution_count": null,
   "id": "def248d4",
   "metadata": {},
   "outputs": [],
   "source": [
    "trainer.train()"
   ]
  },
  {
   "cell_type": "markdown",
   "id": "081a7aa7",
   "metadata": {},
   "source": [
    "# Step 6. Select and save the best weights/model"
   ]
  },
  {
   "cell_type": "markdown",
   "id": "b7149a3b",
   "metadata": {},
   "source": [
    "After the model training completes, users should choose the best epoch number that generates the best prediction of cell regions (e.g., epoch=43 as used in the above command). Usually the best epoch number should be the value that results in the lowest val_loss. The program will store the model with the chosen weights in the models folder with the name, unet3_pretrained.h5."
   ]
  },
  {
   "cell_type": "code",
   "execution_count": null,
   "id": "9f903ad0",
   "metadata": {},
   "outputs": [],
   "source": [
    "trainer.select_weights(epoch=54)"
   ]
  },
  {
   "cell_type": "code",
   "execution_count": null,
   "id": "1bb290e6",
   "metadata": {},
   "outputs": [],
   "source": [
    "trainer.draw_losses()"
   ]
  },
  {
   "cell_type": "code",
   "execution_count": null,
   "id": "c3e3ae26",
   "metadata": {},
   "outputs": [],
   "source": [
    "trainer.save_losses()"
   ]
  },
  {
   "cell_type": "code",
   "execution_count": null,
   "id": "73fd408e",
   "metadata": {},
   "outputs": [],
   "source": []
  }
 ],
 "metadata": {
  "kernelspec": {
   "display_name": "Python 3 (ipykernel)",
   "language": "python",
   "name": "python3"
  },
  "language_info": {
   "codemirror_mode": {
    "name": "ipython",
    "version": 3
   },
   "file_extension": ".py",
   "mimetype": "text/x-python",
   "name": "python",
   "nbconvert_exporter": "python",
   "pygments_lexer": "ipython3",
   "version": "3.8.15"
  }
 },
 "nbformat": 4,
 "nbformat_minor": 5
}
